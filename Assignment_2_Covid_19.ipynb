{
 "cells": [
  {
   "cell_type": "code",
   "execution_count": null,
   "metadata": {},
   "outputs": [],
   "source": [
    "age = str(input(\"Are you a cigarette addict older than 75 years old? : (True/False)\")).title().strip()\n",
    "\n",
    "chronic = str(input(\"Do you have a severe chronic disease? : (True/False)\")).title().strip()\n",
    "\n",
    "immune = str(input(\"Is your immune system too weak? : (True/False)\")).title().strip()\n",
    "\n",
    "risk = age or chronic or immune\n",
    "\n",
    "if risk == \"True\":\n",
    "\n",
    "    print(\"You are in risky group\")\n",
    "\n",
    "else:\n",
    "\n",
    "    print(\"You are not in risky group\")"
   ]
  }
 ],
 "metadata": {
  "kernelspec": {
   "display_name": "Python 3",
   "language": "python",
   "name": "python3"
  },
  "language_info": {
   "codemirror_mode": {
    "name": "ipython",
    "version": 3
   },
   "file_extension": ".py",
   "mimetype": "text/x-python",
   "name": "python",
   "nbconvert_exporter": "python",
   "pygments_lexer": "ipython3",
   "version": "3.7.6"
  }
 },
 "nbformat": 4,
 "nbformat_minor": 4
}
